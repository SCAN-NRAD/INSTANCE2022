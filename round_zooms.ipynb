{
 "cells": [
  {
   "cell_type": "code",
   "execution_count": 1,
   "metadata": {},
   "outputs": [],
   "source": [
    "import nibabel as nib\n",
    "import numpy as np\n",
    "import matplotlib.pyplot as plt\n",
    "import math"
   ]
  },
  {
   "cell_type": "code",
   "execution_count": 2,
   "metadata": {},
   "outputs": [],
   "source": [
    "zooms = []\n",
    "for idx in range(1, 101):\n",
    "    img = nib.load(f\"train_2/data/{idx:03d}.nii.gz\")\n",
    "    zooms.append(img.header.get_zooms())\n",
    "\n",
    "zooms = np.array(zooms)"
   ]
  },
  {
   "cell_type": "code",
   "execution_count": 3,
   "metadata": {},
   "outputs": [],
   "source": [
    "def round_mantissa(x, n):\n",
    "    if x == 0:\n",
    "        return 0\n",
    "    s = 1 if x >= 0 else -1\n",
    "    x = abs(x)\n",
    "    a = math.floor(math.log2(x))\n",
    "    x = x / 2 ** a\n",
    "    assert 1.0 <= x < 2.0, x\n",
    "    x = round(x * 2**n) / 2**n\n",
    "    x = x * 2 ** a\n",
    "    return s * x\n",
    "\n",
    "\n",
    "# vectorize round_mantissa\n",
    "round_mantissa_vec = np.vectorize(round_mantissa)"
   ]
  },
  {
   "cell_type": "code",
   "execution_count": 4,
   "metadata": {},
   "outputs": [
    {
     "data": {
      "text/plain": [
       "0.75"
      ]
     },
     "execution_count": 4,
     "metadata": {},
     "output_type": "execute_result"
    }
   ],
   "source": [
    "round_mantissa(0.5 + 0.25 + 0.125 - 1/16, 2)"
   ]
  },
  {
   "cell_type": "code",
   "execution_count": 5,
   "metadata": {},
   "outputs": [],
   "source": [
    "man = np.array([1.0, 1.125, 1.25, 1.375, 1.5, 1.625, 1.75, 1.875])\n",
    "exp = np.arange(-15, 10)\n",
    "nums = man[:, None] * 2.0**exp[None, :]\n",
    "nums = nums.flatten()\n",
    "\n",
    "for x in np.linspace(1e-3, 20, 100000):\n",
    "    y = round_mantissa(x, 3)\n",
    "    assert y == nums[np.argmin(np.abs(x - nums))], x"
   ]
  },
  {
   "cell_type": "code",
   "execution_count": 6,
   "metadata": {},
   "outputs": [],
   "source": [
    "ns = np.arange(1, 20)\n",
    "ks = [\n",
    "    np.unique(round_mantissa_vec(zooms, n), axis=0).shape[0]\n",
    "    for n in ns\n",
    "]"
   ]
  },
  {
   "cell_type": "code",
   "execution_count": 7,
   "metadata": {},
   "outputs": [
    {
     "data": {
      "text/plain": [
       "(0.0, 6.0)"
      ]
     },
     "execution_count": 7,
     "metadata": {},
     "output_type": "execute_result"
    },
    {
     "data": {
      "image/png": "[encoded data removed]",
      "text/plain": [
       "<Figure size 432x288 with 1 Axes>"
      ]
     },
     "metadata": {
      "needs_background": "light"
     },
     "output_type": "display_data"
    }
   ],
   "source": [
    "plt.plot(ns, ks, '.-')\n",
    "plt.ylim(0, 30)\n",
    "plt.xlim(0, 6)"
   ]
  },
  {
   "cell_type": "code",
   "execution_count": 9,
   "metadata": {},
   "outputs": [
    {
     "data": {
      "text/plain": [
       "array([[0.375   , 0.375   , 4.5     ],\n",
       "       [0.375   , 0.375   , 4.75    ],\n",
       "       [0.375   , 0.375   , 5.      ],\n",
       "       [0.390625, 0.390625, 5.      ],\n",
       "       [0.390625, 0.390625, 5.5     ],\n",
       "       [0.40625 , 0.40625 , 4.5     ],\n",
       "       [0.40625 , 0.40625 , 4.75    ],\n",
       "       [0.40625 , 0.40625 , 5.      ],\n",
       "       [0.421875, 0.421875, 4.5     ],\n",
       "       [0.421875, 0.421875, 5.      ],\n",
       "       [0.4375  , 0.4375  , 5.      ],\n",
       "       [0.453125, 0.453125, 4.5     ],\n",
       "       [0.453125, 0.453125, 5.      ],\n",
       "       [0.46875 , 0.46875 , 5.      ],\n",
       "       [0.484375, 0.484375, 4.75    ],\n",
       "       [0.484375, 0.484375, 5.      ],\n",
       "       [0.5     , 0.5     , 5.      ],\n",
       "       [0.53125 , 0.53125 , 5.      ],\n",
       "       [0.59375 , 0.59375 , 5.      ]])"
      ]
     },
     "execution_count": 9,
     "metadata": {},
     "output_type": "execute_result"
    }
   ],
   "source": [
    "ls = np.unique(round_mantissa_vec(zooms, 4), axis=0)\n",
    "ls"
   ]
  },
  {
   "cell_type": "code",
   "execution_count": 10,
   "metadata": {},
   "outputs": [
    {
     "data": {
      "text/plain": [
       "(19, 3)"
      ]
     },
     "execution_count": 10,
     "metadata": {},
     "output_type": "execute_result"
    }
   ],
   "source": [
    "ls.shape"
   ]
  },
  {
   "cell_type": "code",
   "execution_count": null,
   "metadata": {},
   "outputs": [],
   "source": []
  }
 ],
 "metadata": {
  "interpreter": {
   "hash": "b5e6a81650e2ec12c36e53f44b5573c56b5183943fab134b82eca30c58c300d8"
  },
  "kernelspec": {
   "display_name": "Python 3.9.2 ('base')",
   "language": "python",
   "name": "python3"
  },
  "language_info": {
   "codemirror_mode": {
    "name": "ipython",
    "version": 3
   },
   "file_extension": ".py",
   "mimetype": "text/x-python",
   "name": "python",
   "nbconvert_exporter": "python",
   "pygments_lexer": "ipython3",
   "version": "3.9.2"
  },
  "orig_nbformat": 4
 },
 "nbformat": 4,
 "nbformat_minor": 2
}
